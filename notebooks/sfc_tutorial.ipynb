{
  "cells": [
    {
      "cell_type": "markdown",
      "metadata": {
        "id": "rGjHDT1ztc10"
      },
      "source": [
        "# 0. 準備"
      ]
    },
    {
      "cell_type": "markdown",
      "metadata": {
        "id": "3GD5vsooeGdd"
      },
      "source": [
        "## 0-1. ライブラリのインストール&インポート"
      ]
    },
    {
      "cell_type": "code",
      "execution_count": null,
      "metadata": {
        "id": "pWT2_8hlQMll"
      },
      "outputs": [],
      "source": [
        "import os\n",
        "import sys\n",
        "\n",
        "# レポジトリをクローンして移動\n",
        "REPO_DPATH = 'clip-prefix-caption-jp'\n",
        "if not os.path.exists(REPO_DPATH):\n",
        "  !git clone https://github.com/ohashi56225/clip-prefix-caption-jp.git\n",
        "sys.path.append(REPO_DPATH)\n",
        "%cd $REPO_DPATH\n",
        "\n",
        "# 必要ライブラリインストール\n",
        "!pip install git+https://github.com/openai/CLIP.git\n",
        "!pip install scikit-image torch transformers sentencepiece\n",
        "\n",
        "# インポート\n",
        "import json\n",
        "import random\n",
        "import gdown\n",
        "from test import Predictor\n",
        "from model import build_model\n",
        "from IPython.display import display\n",
        "from google.colab import files\n",
        "\n",
        "# ついでに後で使う関数も作っておく\n",
        "def upload_file():\n",
        "  uploaded = files.upload()\n",
        "  if not uploaded:\n",
        "    image_fpath = ''\n",
        "  elif len(uploaded) == 1:\n",
        "    image_fpath = list(uploaded.keys())[0]\n",
        "  else:\n",
        "    raise RuntimeError(\"1度に1枚まで\")\n",
        "  return image_fpath"
      ]
    },
    {
      "cell_type": "markdown",
      "metadata": {
        "id": "m95tV7X-eOZ8"
      },
      "source": [
        "## 0-2. データダウンロード"
      ]
    },
    {
      "cell_type": "code",
      "execution_count": null,
      "metadata": {
        "colab": {
          "base_uri": "https://localhost:8080/"
        },
        "id": "d_YZ5Y_sfnf8",
        "outputId": "18eb9c1e-845b-4e70-fe7f-c5a64a07c59d"
      },
      "outputs": [
        {
          "name": "stdout",
          "output_type": "stream",
          "text": [
            "usage: gdown [-h] [-V] [-O OUTPUT] [-q] [--id] url_or_id\n",
            "gdown: error: unrecognized arguments: data model.py notebooks __pycache__ README.md test.py train.py\n",
            "unzip:  cannot find or open checkpoints.zip, checkpoints.zip.zip or checkpoints.zip.ZIP.\n",
            "unzip:  cannot find or open data.zip, data.zip.zip or data.zip.ZIP.\n"
          ]
        }
      ],
      "source": [
        "# 画像データ\n",
        "gdown.download(\"https://drive.google.com/uc?id=18j0Cx5aPfuBkCfD0RlWGYpYSs66P6Frq\", \"data.zip\", quiet=False)\n",
        "!unzip data.zip -d data"
      ]
    },
    {
      "cell_type": "markdown",
      "metadata": {},
      "source": [
        "## 1. SFCOCOデータセットのみで実験"
      ]
    },
    {
      "cell_type": "markdown",
      "metadata": {},
      "source": [
        "## 1-1. 学習"
      ]
    },
    {
      "cell_type": "code",
      "execution_count": null,
      "metadata": {},
      "outputs": [],
      "source": [
        "!python train.py --model_name sfcoco \\\n",
        "                 --train_data_fpath data/sfcoco/processed/train.pkl \\\n",
        "                 --valid_data_fpath data/sfcoco/processed/valid.pkl \\\n",
        "                 --epochs 20 \\\n",
        "                 --batch_size 4"
      ]
    },
    {
      "cell_type": "markdown",
      "metadata": {},
      "source": [
        "## 1-2. 学習後モデル読み込み"
      ]
    },
    {
      "cell_type": "code",
      "execution_count": null,
      "metadata": {},
      "outputs": [],
      "source": [
        "sfcoco_model = build_model(model_fpath=\"\")\n",
        "sfcoco_predictor = Predictor(model=sfcoco_model)"
      ]
    },
    {
      "cell_type": "markdown",
      "metadata": {},
      "source": [
        "## 1-3. テスト画像の読み込み"
      ]
    },
    {
      "cell_type": "code",
      "execution_count": null,
      "metadata": {},
      "outputs": [],
      "source": [
        "#@markdown ### 好きな画像をアップロードする場合\n",
        "#@markdown ローカルにある画像を使いたい場合は，このセルを実行してアップロードしてください\n",
        "#@markdown アップロードした画像はカレントディレクトリ直下に吐き出されます\n",
        "\n",
        "image_fpath = upload_file()"
      ]
    },
    {
      "cell_type": "code",
      "execution_count": null,
      "metadata": {},
      "outputs": [],
      "source": [
        "#@markdown ### テスト画像リストから選ぶ場合\n",
        "#@markdown テスト画像リストの画像を使用する場合は，このセルを実行して1枚選択してください．\n",
        "\n",
        "# テスト画像ファイルリスト読込\n",
        "TEST_IMAGE_FNAME_LIST = json.load(open(\"data/sfcoco/processed/test_list.json\"))\n",
        "\n",
        "# 1枚選択\n",
        "image_fname = TEST_IMAGE_FNAME_LIST[1] # [1]は福沢諭吉像の画像\n",
        "# image_fname = random.choice(TEST_IMAGE_FNAME_LIST)\n",
        "\n",
        "image_fpath = os.path.join(\"data/sfcoco/images\", image_fname)"
      ]
    },
    {
      "cell_type": "markdown",
      "metadata": {},
      "source": [
        "## 1-4. キャプション生成"
      ]
    },
    {
      "cell_type": "code",
      "execution_count": null,
      "metadata": {},
      "outputs": [],
      "source": [
        "pil_image, captions = sfcoco_predictor.caption(image_fpath=image_fpath, beam_size=5)\n",
        "display(pil_image) # 画像を表示\n",
        "print(json.dumps(captions, indent=2, ensure_ascii=False)) # キャプションを表示"
      ]
    },
    {
      "cell_type": "code",
      "execution_count": null,
      "metadata": {},
      "outputs": [],
      "source": [
        "for image_fname in TEST_IMAGE_FNAME_LIST[:2]:\n",
        "    image_fpath = os.path.join(\"data/sfcoco/images\", image_fname)\n",
        "    pil_image, captions = coco_predictor.caption(image_fpath=image_fpath, beam_size=5)\n",
        "    print(json.dumps(captions, indent=2, ensure_ascii=False)) # キャプションを表示"
      ]
    },
    {
      "cell_type": "markdown",
      "metadata": {
        "id": "Mr6wd085rLeY"
      },
      "source": [
        "# 2. COCOデータセットのみで実験"
      ]
    },
    {
      "cell_type": "markdown",
      "metadata": {},
      "source": [
        "## 2-1. モデル準備"
      ]
    },
    {
      "cell_type": "code",
      "execution_count": null,
      "metadata": {},
      "outputs": [],
      "source": [
        "# 学習済みモデルの重みをダウンロード\n",
        "gdown.download(\"\", \"coco_prefix-***.zip\", quiet=False)\n",
        "!unzip coco_prefix-***.zip -d checkpoints\n",
        "\n",
        "# # 学習済みモデルを読み込み\n",
        "coco_model = build_model(model_fpath=\"checkpoints/coco-004.pt\")\n",
        "coco_predictor = Predictor(model=coco_model)"
      ]
    },
    {
      "cell_type": "markdown",
      "metadata": {
        "id": "9eLNaw8VeW0M"
      },
      "source": [
        "## 2-2. テスト画像の読み込み"
      ]
    },
    {
      "cell_type": "code",
      "execution_count": null,
      "metadata": {
        "colab": {
          "base_uri": "https://localhost:8080/",
          "height": 43,
          "resources": {
            "http://localhost:8080/nbextensions/google.colab/files.js": {
              "data": "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",
              "headers": [
                [
                  "content-type",
                  "application/javascript"
                ]
              ],
              "ok": true,
              "status": 200,
              "status_text": ""
            }
          }
        },
        "id": "WhlvpZjTmqfn",
        "outputId": "7411b475-2b90-4e72-f4ce-5cb2c68a7a6a"
      },
      "outputs": [
        {
          "data": {
            "text/html": [
              "\n",
              "     <input type=\"file\" id=\"files-806251cc-30dd-499c-8a23-879cc5cb0167\" name=\"files[]\" multiple disabled\n",
              "        style=\"border:none\" />\n",
              "     <output id=\"result-806251cc-30dd-499c-8a23-879cc5cb0167\">\n",
              "      Upload widget is only available when the cell has been executed in the\n",
              "      current browser session. Please rerun this cell to enable.\n",
              "      </output>\n",
              "      <script src=\"/nbextensions/google.colab/files.js\"></script> "
            ],
            "text/plain": [
              "<IPython.core.display.HTML object>"
            ]
          },
          "metadata": {},
          "output_type": "display_data"
        }
      ],
      "source": [
        "#@markdown ### 好きな画像をアップロードする場合\n",
        "#@markdown ローカルにある画像を使いたい場合は，このセルを実行してアップロードしてください．\n",
        "#@markdown アップロードした画像はカレントディレクトリ直下に吐き出されます．\n",
        "\n",
        "image_fpath = upload_file()"
      ]
    },
    {
      "cell_type": "code",
      "execution_count": 6,
      "metadata": {
        "id": "4mnyrb4jnGf3"
      },
      "outputs": [],
      "source": [
        "#@markdown ### テスト画像リストから選ぶ場合\n",
        "#@markdown テスト画像リストの画像を使用する場合は，このセルを実行して1枚選択してください．\n",
        "\n",
        "# テスト画像ファイルリスト読込\n",
        "TEST_IMAGE_FNAME_LIST = json.load(open(\"data/sfcoco/processed/test_list.json\"))\n",
        "\n",
        "# 1枚選択\n",
        "image_fname = TEST_IMAGE_FNAME_LIST[1] # [1]は福沢諭吉像の画像\n",
        "# image_fname = random.choice(TEST_IMAGE_FNAME_LIST)\n",
        "\n",
        "image_fpath = os.path.join(\"data/sfcoco/images\", image_fname)"
      ]
    },
    {
      "cell_type": "markdown",
      "metadata": {
        "id": "Uhiv1hHhl7fo"
      },
      "source": [
        "## 2-3. キャプション生成"
      ]
    },
    {
      "cell_type": "code",
      "execution_count": null,
      "metadata": {
        "colab": {
          "base_uri": "https://localhost:8080/",
          "height": 528
        },
        "id": "-tnJMQq4hRp5",
        "outputId": "eaa0ae01-d861-4817-c2ac-307e570136c0"
      },
      "outputs": [],
      "source": [
        "# キャプション生成\n",
        "pil_image, captions = coco_predictor.caption(image_fpath=image_fpath, beam_size=5)\n",
        "# display(pil_image) # 画像を表示\n",
        "print(json.dumps(captions, indent=2, ensure_ascii=False)) # キャプションを表示"
      ]
    },
    {
      "cell_type": "markdown",
      "metadata": {
        "id": "1raVjgSurgpG"
      },
      "source": [
        "# 3. COCOデータセット+SFCOCOデータセットを合わせて実験"
      ]
    },
    {
      "cell_type": "markdown",
      "metadata": {
        "id": "reNyNpqDe-IL"
      },
      "source": [
        "## 3-1. モデル準備"
      ]
    },
    {
      "cell_type": "code",
      "execution_count": null,
      "metadata": {
        "colab": {
          "base_uri": "https://localhost:8080/"
        },
        "id": "TVCu6nHIrgAQ",
        "outputId": "1032413c-7d63-4af8-9035-a0e0ac80b1e5"
      },
      "outputs": [
        {
          "name": "stdout",
          "output_type": "stream",
          "text": [
            "Train both prefix and GPT\n",
            "Resume pretrained weights from checkpoints/cocosfcoco_prefix-017.pt\n"
          ]
        }
      ],
      "source": [
        "gdown.download(\"\", \"cocosfcoco-***.zip\", quiet=False)\n",
        "!unzip cocosfcoco-***.zip -d checkpoints\n",
        "\n",
        "# 学習済みモデルと推論器を読み込む\n",
        "cocosfcoco_model = build_model(model_fpath=\"checkpoints/cocosfcoco-008.pt\")\n",
        "cocosfcoco_predictor = Predictor(model=cocosfcoco_model)"
      ]
    },
    {
      "cell_type": "markdown",
      "metadata": {},
      "source": [
        "## 3-2. テスト画像読み込み"
      ]
    },
    {
      "cell_type": "code",
      "execution_count": null,
      "metadata": {
        "id": "HiEHTrq3tEp7"
      },
      "outputs": [],
      "source": [
        "#@markdown #### 好きな画像をアップロードする場合\n",
        "image_fpath = upload_file()"
      ]
    },
    {
      "cell_type": "code",
      "execution_count": null,
      "metadata": {
        "id": "tgratZ5NtEHE"
      },
      "outputs": [],
      "source": [
        "#@markdown ### テスト画像リストから選ぶ場合\n",
        "#@markdown テスト画像リストの画像を使用する場合は，このセルを実行して1枚選択してください．\n",
        "\n",
        "# テスト画像ファイルリスト読込\n",
        "TEST_IMAGE_FNAME_LIST = json.load(open(\"data/sfcoco/processed/test_list.json\"))\n",
        "\n",
        "# 1枚選択\n",
        "image_fname = TEST_IMAGE_FNAME_LIST[1] # [1]は福沢諭吉像の画像\n",
        "# image_fname = random.choice(TEST_IMAGE_FNAME_LIST)\n",
        "\n",
        "image_fpath = os.path.join(\"data/sfcoco/images\", image_fname)"
      ]
    },
    {
      "cell_type": "markdown",
      "metadata": {
        "id": "goo8xnZVl2Xz"
      },
      "source": [
        "## 3-2. キャプション生成"
      ]
    },
    {
      "cell_type": "code",
      "execution_count": null,
      "metadata": {
        "colab": {
          "base_uri": "https://localhost:8080/",
          "height": 528
        },
        "id": "LkfNlfIQtPnd",
        "outputId": "70f566ae-55de-4d6b-d161-9b59da9eb9bd"
      },
      "outputs": [],
      "source": [
        "pil_image, captions = cocosfcoco_predictor.caption(image_fpath=image_fpath, beam_size=5)\n",
        "display(pil_image) # 画像を表示\n",
        "print(json.dumps(captions, indent=2, ensure_ascii=False)) # キャプションを表示"
      ]
    }
  ],
  "metadata": {
    "accelerator": "GPU",
    "colab": {
      "name": "SFC Inference.ipynb",
      "provenance": []
    },
    "kernelspec": {
      "display_name": "Python 3",
      "name": "python3"
    },
    "language_info": {
      "codemirror_mode": {
        "name": "ipython",
        "version": 3
      },
      "file_extension": ".py",
      "mimetype": "text/x-python",
      "name": "python",
      "nbconvert_exporter": "python",
      "pygments_lexer": "ipython3",
      "version": "3.7.9"
    }
  },
  "nbformat": 4,
  "nbformat_minor": 0
}
