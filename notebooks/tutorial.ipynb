{
 "cells": [
  {
   "cell_type": "markdown",
   "metadata": {},
   "source": [
    "# 1. 準備"
   ]
  },
  {
   "cell_type": "markdown",
   "metadata": {},
   "source": [
    "## 1-1. 作業用ディレクトリ準備"
   ]
  },
  {
   "cell_type": "code",
   "execution_count": null,
   "metadata": {},
   "outputs": [],
   "source": [
    "#@markdown ### 自分のgoogle driveで作業する場合\n",
    "\n",
    "# マウント\n",
    "from google.colab import drive \n",
    "drive.mount('/content/drive')\n",
    "\n",
    "# 作業用ディレクトリを作成して移動\n",
    "EXP_DPATH = '/content/drive/MyDrive/SFC2021_clip_prefix_caption'\n",
    "!mkdir -p $EXP_DPATH\n",
    "%cd $EXP_DPATH"
   ]
  },
  {
   "cell_type": "code",
   "execution_count": null,
   "metadata": {},
   "outputs": [],
   "source": [
    "#@markdown ### 自分のgoogle driveで作業する場合\n",
    "\n",
    "EXP_DPATH = ''"
   ]
  },
  {
   "cell_type": "markdown",
   "metadata": {},
   "source": [
    "## 1-2. ライブラリのインストール&インポート"
   ]
  },
  {
   "cell_type": "code",
   "execution_count": 1,
   "metadata": {},
   "outputs": [],
   "source": [
    "# インストール\n",
    "import os\n",
    "import sys\n",
    "\n",
    "# 必要ライブラリインストール\n",
    "!pip install git+https://github.com/openai/CLIP.git\n",
    "!pip install scikit-image torch transformers sentencepiece\n",
    "\n",
    "# レポジトリをクローンして移動\n",
    "REPO_DPATH = os.path.join(EXP_DPATH, 'clip-prefix-caption-jp')\n",
    "if not os.path.exists(REPO_DPATH):\n",
    "    !git clone https://github.com/ohashi56225/clip-prefix-caption-jp.git\n",
    "sys.path.append(REPO_DPATH)\n",
    "%cd $REPO_DPATH\n",
    "\n",
    "\n",
    "# インポート\n",
    "import json\n",
    "import random\n",
    "from preprocess import prepare_data\n",
    "from test import Predictor\n",
    "from model import build_model\n",
    "from IPython.display import display\n",
    "from google.colab import files\n",
    "\n",
    "# ついでに後で使う関数も作っておく\n",
    "def upload_file():\n",
    "  uploaded = files.upload()\n",
    "  if not uploaded:\n",
    "    image_fpath = ''\n",
    "  elif len(uploaded) == 1:\n",
    "    image_fpath = list(uploaded.keys())[0]\n",
    "  else:\n",
    "    raise RuntimeError(\"1度に1枚まで\")\n",
    "  return image_fpath"
   ]
  },
  {
   "cell_type": "markdown",
   "metadata": {},
   "source": [
    "# 2. cocoデータセットのみで学習"
   ]
  },
  {
   "cell_type": "markdown",
   "metadata": {},
   "source": [
    "## 2-1. cocoデータの準備\n",
    "キャプション一覧データと画像データを用意する．各データのフォーマットは，本リポジトリの`README.md`を参照．"
   ]
  },
  {
   "cell_type": "code",
   "execution_count": null,
   "metadata": {},
   "outputs": [],
   "source": [
    "# COCOデータ (images/)をダウンロード\n",
    "%cd data/coco\n",
    "!wget http://images.cocodataset.org/zips/train2014.zip\n",
    "!unzip -jq train2014.zip -d images\n",
    "%cd ../../"
   ]
  },
  {
   "cell_type": "code",
   "execution_count": 3,
   "metadata": {},
   "outputs": [],
   "source": [
    "# キャプション一覧データのパス\n",
    "coco_captions_fpath = \"data/coco/captions.csv\"\n",
    "\n",
    "# 画像データのパス\n",
    "coco_image_dpath = \"data/coco/images\""
   ]
  },
  {
   "cell_type": "markdown",
   "metadata": {},
   "source": [
    "## 2-2. データの前処理\n",
    "CLIPモデルを用いて画像データ＋キャプションを前処理し，学習用データを作成する"
   ]
  },
  {
   "cell_type": "code",
   "execution_count": null,
   "metadata": {},
   "outputs": [],
   "source": [
    "# train/test/validの割合を指定\n",
    "coco_test_fpath, coco_valid_fpath, coco_train_fpath = prepare_data(captions_fpath=coco_captions_fpath,\n",
    "                                                                   image_dpath=coco_image_dpath,\n",
    "                                                                   test_ratio=0.1,\n",
    "                                                                   valid_ratio=0.1,\n",
    "                                                                   train_ratio=0.8,\n",
    "                                                                   shuffle=False)"
   ]
  },
  {
   "cell_type": "markdown",
   "metadata": {},
   "source": [
    "## 2-3. 学習"
   ]
  },
  {
   "cell_type": "code",
   "execution_count": 4,
   "metadata": {},
   "outputs": [
    {
     "name": "stdout",
     "output_type": "stream",
     "text": [
      "Data size is 105392\n",
      "Data size is 13174\n",
      "Train both prefix and GPT\n",
      "Resume pretrained weights from checkpoints/coco-001.pt\n",
      ">>> Epoch: 2\n",
      "coco train: 100%|████████████████| 2634/2634 [24:59<00:00,  1.76it/s, loss=1.79]\n",
      "coco valid: 100%|██████████████████| 329/329 [00:57<00:00,  5.70it/s, loss=1.66]\n",
      ">>> Epoch: 3\n",
      "coco train:  20%|███▍             | 527/2634 [05:00<19:58,  1.76it/s, loss=1.66]"
     ]
    }
   ],
   "source": [
    "!python train.py --model_name coco \\\n",
    "                 --train_data_fpath $coco_train_fpath \\\n",
    "                 --valid_data_fpath $coco_valid_fpath \\\n",
    "                 --epochs 10 \\\n",
    "                 --batch_size 40"
   ]
  },
  {
   "cell_type": "markdown",
   "metadata": {},
   "source": [
    "## 2-4. 推論\n",
    "テスト画像を使用して，学習済みモデルをテストする"
   ]
  },
  {
   "cell_type": "code",
   "execution_count": null,
   "metadata": {},
   "outputs": [],
   "source": [
    "# モデル読込\n",
    "coco_model = build_model(model_fpath='checkpoints/coco-002.pt')\n",
    "coco_predictor = Predictor(model=coco_model)"
   ]
  },
  {
   "cell_type": "code",
   "execution_count": null,
   "metadata": {},
   "outputs": [],
   "source": [
    "#@markdown ### 好きな画像をアップロードする場合\n",
    "#@markdown ローカルにある画像を使いたい場合は，このセルを実行してアップロードしてください\n",
    "#@markdown アップロードした画像はカレントディレクトリ直下に吐き出されます\n",
    "\n",
    "image_fpath = upload_file()"
   ]
  },
  {
   "cell_type": "code",
   "execution_count": null,
   "metadata": {},
   "outputs": [],
   "source": [
    "#@markdown ### テスト画像リストから選ぶ場合\n",
    "#@markdown テスト画像リストの画像を使用する場合は，このセルを実行して1枚選択してください．\n",
    "\n",
    "# テスト画像ファイルリスト読込\n",
    "TEST_IMAGE_FNAME_LIST = json.load(open(os.path.splitext(coco_test_fpath)[0]+\"_list.json\"))\n",
    "\n",
    "# 1枚選択\n",
    "image_fname = TEST_IMAGE_FNAME_LIST[1]\n",
    "# image_fname = random.choice(TEST_IMAGE_FNAME_LIST)\n",
    "\n",
    "image_fpath = os.path.join(image_dpath, image_fname)"
   ]
  },
  {
   "cell_type": "code",
   "execution_count": 8,
   "metadata": {},
   "outputs": [],
   "source": [
    "# キャプション生成\n",
    "pil_image, captions = coco_predictor.caption(image_fpath=image_fpath, beam_size=5)\n",
    "display(pil_image)\n",
    "print(json.dumps(captions, indent=2, ensure_ascii=False))"
   ]
  },
  {
   "cell_type": "markdown",
   "metadata": {},
   "source": [
    "# 3. 追加学習\n",
    "cocoデータで学習したモデルを，自分で用意した（少量）データで追加学習する．このチュートリアルではSFCOCOデータを利用する．"
   ]
  },
  {
   "cell_type": "markdown",
   "metadata": {},
   "source": [
    "## 3-1. sfcocoデータを用意"
   ]
  },
  {
   "cell_type": "code",
   "execution_count": 10,
   "metadata": {},
   "outputs": [],
   "source": [
    "# キャプション一覧データのパス\n",
    "captions_fpath = \"data/sfcoco/captions.csv\"\n",
    "\n",
    "# 画像データのパス\n",
    "image_dpath = \"data/sfcoco/images\""
   ]
  },
  {
   "cell_type": "markdown",
   "metadata": {},
   "source": [
    "## 3-2. データの前処理\n",
    "CLIPモデルを用いて画像データ＋キャプションを前処理し，学習用データを作成する"
   ]
  },
  {
   "cell_type": "code",
   "execution_count": null,
   "metadata": {},
   "outputs": [],
   "source": [
    "sfcoco_test_fpath, sfcoco_valid_fpath, sfcoco_train_fpath = prepare_data(captions_fpath=captions_fpath,\n",
    "                                                                         image_dpath=image_dpath,\n",
    "                                                                         test_ratio=0.1,\n",
    "                                                                         valid_ratio=0.1,\n",
    "                                                                         train_ratio=0.8,\n",
    "                                                                         shuffle=True)"
   ]
  },
  {
   "cell_type": "markdown",
   "metadata": {},
   "source": [
    "## 3-3. 学習\n",
    "用意したデータを用いてモデルを学習する\n",
    "- 先ほどCOCOデータセットで学習したモデルを，`--pretrained_fpath`で指定する．"
   ]
  },
  {
   "cell_type": "code",
   "execution_count": null,
   "metadata": {},
   "outputs": [],
   "source": [
    "!python train.py --model_name cocosfcoco \\\n",
    "                 --pretrained_fpath checkpoints/coco-001.pt \\\n",
    "                 --train_data_fpath $sfcoco_train_fpath \\\n",
    "                 --valid_data_fpath $sfcoco_valid_fpath \\\n",
    "                 --epochs 20 \\\n",
    "                 --batch_size 4"
   ]
  },
  {
   "cell_type": "markdown",
   "metadata": {},
   "source": [
    "## 3-4. 推論"
   ]
  },
  {
   "cell_type": "code",
   "execution_count": 16,
   "metadata": {},
   "outputs": [
    {
     "name": "stdout",
     "output_type": "stream",
     "text": [
      "Train both prefix and GPT\n",
      "Resume pretrained weights from checkpoints/cocosfcoco-008.pt\n"
     ]
    }
   ],
   "source": [
    "# テスト画像リスト\n",
    "TEST_IMAGE_FNAME_LIST = json.load(open(os.path.splitext(sfcoco_test_fpath)[0]+\"_list.json\"))\n",
    "\n",
    "# モデル読込\n",
    "cocosfcoco_model = build_model(model_fpath='checkpoints/cocosfcoco-008.pt')\n",
    "cocosfcoco_predictor = Predictor(model=cocosfcoco_model)"
   ]
  },
  {
   "cell_type": "code",
   "execution_count": null,
   "metadata": {},
   "outputs": [],
   "source": [
    "#@markdown ### 好きな画像をアップロードする場合\n",
    "#@markdown ローカルにある画像を使いたい場合は，このセルを実行してアップロードしてください\n",
    "#@markdown アップロードした画像はカレントディレクトリ直下に吐き出されます\n",
    "\n",
    "image_fpath = upload_file()"
   ]
  },
  {
   "cell_type": "code",
   "execution_count": null,
   "metadata": {},
   "outputs": [],
   "source": [
    "#@markdown ### テスト画像リストから選ぶ場合\n",
    "#@markdown テスト画像リストの画像を使用する場合は，このセルを実行して1枚選択してください．\n",
    "\n",
    "# テスト画像ファイルリスト読込\n",
    "TEST_IMAGE_FNAME_LIST = json.load(open(os.path.splitext(sfcoco_test_fpath)[0]+\"_list.json\"))\n",
    "\n",
    "# 1枚選択\n",
    "image_fname = TEST_IMAGE_FNAME_LIST[1]\n",
    "# image_fname = random.choice(TEST_IMAGE_FNAME_LIST)\n",
    "\n",
    "image_fpath = os.path.join(\"data/sfcoco/images\", image_fname)"
   ]
  },
  {
   "cell_type": "code",
   "execution_count": null,
   "metadata": {},
   "outputs": [],
   "source": [
    "# キャプション生成\n",
    "pil_image, captions = coco_predictor.caption(image_fpath=image_fpath, beam_size=5)\n",
    "display(pil_image)\n",
    "print(json.dumps(captions, indent=2, ensure_ascii=False))"
   ]
  }
 ],
 "metadata": {
  "interpreter": {
   "hash": "200c693d8882c277af210aff1ba4dc30fecef434f6eeccb3ce09a43e1b416df9"
  },
  "kernelspec": {
   "display_name": "Python 3.7.9 64-bit ('.venv': venv)",
   "language": "python",
   "name": "python3"
  },
  "language_info": {
   "codemirror_mode": {
    "name": "ipython",
    "version": 3
   },
   "file_extension": ".py",
   "mimetype": "text/x-python",
   "name": "python",
   "nbconvert_exporter": "python",
   "pygments_lexer": "ipython3",
   "version": "3.7.9"
  },
  "orig_nbformat": 4
 },
 "nbformat": 4,
 "nbformat_minor": 2
}
