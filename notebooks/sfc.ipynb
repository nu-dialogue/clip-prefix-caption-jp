{
 "cells": [
  {
   "cell_type": "code",
   "execution_count": null,
   "metadata": {},
   "outputs": [],
   "source": [
    "import torch\n",
    "import json\n",
    "import os\n",
    "from IPython.display import display\n",
    "from model import build_model\n",
    "from test import Predictor"
   ]
  },
  {
   "cell_type": "code",
   "execution_count": null,
   "metadata": {},
   "outputs": [],
   "source": [
    "DEVICE = torch.device(\"cuda:0\") if torch.cuda.is_available() else torch.device(\"cpu\")"
   ]
  },
  {
   "cell_type": "code",
   "execution_count": null,
   "metadata": {},
   "outputs": [],
   "source": [
    "TEST_IMAGE_FNAME_LIST = json.load(open(os.path.join(\"data/sfcoco/test_list.json\")))"
   ]
  },
  {
   "cell_type": "code",
   "execution_count": null,
   "metadata": {},
   "outputs": [],
   "source": [
    "coco_model = build_model(model_path=\"checkpoints/coco_prefix-003.pt\")\n",
    "coco_predictor = Predictor(coco_model)"
   ]
  },
  {
   "cell_type": "code",
   "execution_count": null,
   "metadata": {},
   "outputs": [],
   "source": [
    "image_fpath = TEST_IMAGE_FNAME_LIST[0]\n",
    "# image_fpath = random.choice(TEST_IMAGE_FNAME_LIST)\n",
    "pil_image, captions = coco_predictor.caption(image_fpath=image_fpath)\n",
    "display(pil_image)\n",
    "print(json.dumps(captions, indent=4, ensure_ascii=False))"
   ]
  }
 ],
 "metadata": {
  "language_info": {
   "name": "python"
  },
  "orig_nbformat": 4
 },
 "nbformat": 4,
 "nbformat_minor": 2
}
